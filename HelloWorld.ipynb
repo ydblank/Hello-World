{
 "cells": [
  {
   "cell_type": "code",
   "execution_count": 1,
   "id": "70e9adcc-9f16-422a-9165-aa1e5f264542",
   "metadata": {},
   "outputs": [
    {
     "name": "stdout",
     "output_type": "stream",
     "text": [
      "Collecting matplotlib\n",
      "  Obtaining dependency information for matplotlib from https://files.pythonhosted.org/packages/4d/9c/65830d4a56c47f5283eaa244dc1228c5da9c844a9f999ebcc2e69bf6cc65/matplotlib-3.7.2-cp311-cp311-win_amd64.whl.metadata\n",
      "  Downloading matplotlib-3.7.2-cp311-cp311-win_amd64.whl.metadata (5.8 kB)\n",
      "Collecting contourpy>=1.0.1 (from matplotlib)\n",
      "  Obtaining dependency information for contourpy>=1.0.1 from https://files.pythonhosted.org/packages/16/09/989b982322439faa4bafffcd669e6f942b38fee897c2664c987bcd091dec/contourpy-1.1.0-cp311-cp311-win_amd64.whl.metadata\n",
      "  Downloading contourpy-1.1.0-cp311-cp311-win_amd64.whl.metadata (5.7 kB)\n",
      "Collecting cycler>=0.10 (from matplotlib)\n",
      "  Downloading cycler-0.11.0-py3-none-any.whl (6.4 kB)\n",
      "Collecting fonttools>=4.22.0 (from matplotlib)\n",
      "  Obtaining dependency information for fonttools>=4.22.0 from https://files.pythonhosted.org/packages/95/b6/9a5133deb5838c4dbe3ea27e8dba123622aa5112d43a079e9587636b4faf/fonttools-4.42.1-cp311-cp311-win_amd64.whl.metadata\n",
      "  Downloading fonttools-4.42.1-cp311-cp311-win_amd64.whl.metadata (154 kB)\n",
      "     ---------------------------------------- 0.0/154.1 kB ? eta -:--:--\n",
      "     ----------------------- --------------- 92.2/154.1 kB 2.6 MB/s eta 0:00:01\n",
      "     -------------------------------------- 154.1/154.1 kB 2.3 MB/s eta 0:00:00\n",
      "Collecting kiwisolver>=1.0.1 (from matplotlib)\n",
      "  Obtaining dependency information for kiwisolver>=1.0.1 from https://files.pythonhosted.org/packages/1e/37/d3c2d4ba2719059a0f12730947bbe1ad5ee8bff89e8c35319dcb2c9ddb4c/kiwisolver-1.4.5-cp311-cp311-win_amd64.whl.metadata\n",
      "  Downloading kiwisolver-1.4.5-cp311-cp311-win_amd64.whl.metadata (6.5 kB)\n",
      "Requirement already satisfied: numpy>=1.20 in c:\\users\\joseg\\appdata\\local\\programs\\python\\python311\\lib\\site-packages (from matplotlib) (1.24.3)\n",
      "Requirement already satisfied: packaging>=20.0 in c:\\users\\joseg\\appdata\\local\\programs\\python\\python311\\lib\\site-packages (from matplotlib) (23.1)\n",
      "Collecting pillow>=6.2.0 (from matplotlib)\n",
      "  Obtaining dependency information for pillow>=6.2.0 from https://files.pythonhosted.org/packages/66/d4/054e491f0880bf0119ee79cdc03264e01d5732e06c454da8c69b83a7c8f2/Pillow-10.0.0-cp311-cp311-win_amd64.whl.metadata\n",
      "  Downloading Pillow-10.0.0-cp311-cp311-win_amd64.whl.metadata (9.6 kB)\n",
      "Collecting pyparsing<3.1,>=2.3.1 (from matplotlib)\n",
      "  Downloading pyparsing-3.0.9-py3-none-any.whl (98 kB)\n",
      "     ---------------------------------------- 0.0/98.3 kB ? eta -:--:--\n",
      "     ---------------------------------------- 98.3/98.3 kB 2.8 MB/s eta 0:00:00\n",
      "Requirement already satisfied: python-dateutil>=2.7 in c:\\users\\joseg\\appdata\\local\\programs\\python\\python311\\lib\\site-packages (from matplotlib) (2.8.2)\n",
      "Requirement already satisfied: six>=1.5 in c:\\users\\joseg\\appdata\\local\\programs\\python\\python311\\lib\\site-packages (from python-dateutil>=2.7->matplotlib) (1.16.0)\n",
      "Downloading matplotlib-3.7.2-cp311-cp311-win_amd64.whl (7.5 MB)\n",
      "   ---------------------------------------- 0.0/7.5 MB ? eta -:--:--\n",
      "    --------------------------------------- 0.1/7.5 MB 3.6 MB/s eta 0:00:03\n",
      "   - -------------------------------------- 0.3/7.5 MB 3.2 MB/s eta 0:00:03\n",
      "   -- ------------------------------------- 0.4/7.5 MB 3.0 MB/s eta 0:00:03\n",
      "   -- ------------------------------------- 0.5/7.5 MB 2.9 MB/s eta 0:00:03\n",
      "   --- ------------------------------------ 0.7/7.5 MB 2.8 MB/s eta 0:00:03\n",
      "   ---- ----------------------------------- 0.8/7.5 MB 2.9 MB/s eta 0:00:03\n",
      "   ---- ----------------------------------- 0.9/7.5 MB 2.7 MB/s eta 0:00:03\n",
      "   ----- ---------------------------------- 1.0/7.5 MB 2.8 MB/s eta 0:00:03\n",
      "   ----- ---------------------------------- 1.1/7.5 MB 2.8 MB/s eta 0:00:03\n",
      "   ------ --------------------------------- 1.2/7.5 MB 2.7 MB/s eta 0:00:03\n",
      "   ------- -------------------------------- 1.4/7.5 MB 2.7 MB/s eta 0:00:03\n",
      "   ------- -------------------------------- 1.5/7.5 MB 2.7 MB/s eta 0:00:03\n",
      "   -------- ------------------------------- 1.6/7.5 MB 2.7 MB/s eta 0:00:03\n",
      "   --------- ------------------------------ 1.8/7.5 MB 2.7 MB/s eta 0:00:03\n",
      "   --------- ------------------------------ 1.9/7.5 MB 2.7 MB/s eta 0:00:03\n",
      "   --------- ------------------------------ 1.9/7.5 MB 2.7 MB/s eta 0:00:03\n",
      "   --------- ------------------------------ 1.9/7.5 MB 2.7 MB/s eta 0:00:03\n",
      "   ----------- ---------------------------- 2.1/7.5 MB 2.5 MB/s eta 0:00:03\n",
      "   ----------- ---------------------------- 2.2/7.5 MB 2.5 MB/s eta 0:00:03\n",
      "   ------------ --------------------------- 2.3/7.5 MB 2.5 MB/s eta 0:00:03\n",
      "   ------------- -------------------------- 2.5/7.5 MB 2.5 MB/s eta 0:00:03\n",
      "   ------------- -------------------------- 2.6/7.5 MB 2.5 MB/s eta 0:00:02\n",
      "   -------------- ------------------------- 2.7/7.5 MB 2.5 MB/s eta 0:00:02\n",
      "   --------------- ------------------------ 2.8/7.5 MB 2.5 MB/s eta 0:00:02\n",
      "   --------------- ------------------------ 3.0/7.5 MB 2.5 MB/s eta 0:00:02\n",
      "   ---------------- ----------------------- 3.1/7.5 MB 2.5 MB/s eta 0:00:02\n",
      "   ----------------- ---------------------- 3.2/7.5 MB 2.6 MB/s eta 0:00:02\n",
      "   ----------------- ---------------------- 3.4/7.5 MB 2.6 MB/s eta 0:00:02\n",
      "   ------------------ --------------------- 3.5/7.5 MB 2.6 MB/s eta 0:00:02\n",
      "   ------------------- -------------------- 3.6/7.5 MB 2.6 MB/s eta 0:00:02\n",
      "   ------------------- -------------------- 3.7/7.5 MB 2.6 MB/s eta 0:00:02\n",
      "   -------------------- ------------------- 3.9/7.5 MB 2.6 MB/s eta 0:00:02\n",
      "   --------------------- ------------------ 4.0/7.5 MB 2.6 MB/s eta 0:00:02\n",
      "   --------------------- ------------------ 4.1/7.5 MB 2.6 MB/s eta 0:00:02\n",
      "   ---------------------- ----------------- 4.3/7.5 MB 2.6 MB/s eta 0:00:02\n",
      "   ----------------------- ---------------- 4.4/7.5 MB 2.6 MB/s eta 0:00:02\n",
      "   ------------------------ --------------- 4.5/7.5 MB 2.6 MB/s eta 0:00:02\n",
      "   ------------------------ --------------- 4.6/7.5 MB 2.6 MB/s eta 0:00:02\n",
      "   ------------------------- -------------- 4.8/7.5 MB 2.6 MB/s eta 0:00:02\n",
      "   -------------------------- ------------- 4.9/7.5 MB 2.6 MB/s eta 0:00:01\n",
      "   -------------------------- ------------- 5.0/7.5 MB 2.6 MB/s eta 0:00:01\n",
      "   --------------------------- ------------ 5.2/7.5 MB 2.6 MB/s eta 0:00:01\n",
      "   ---------------------------- ----------- 5.3/7.5 MB 2.6 MB/s eta 0:00:01\n",
      "   ---------------------------- ----------- 5.4/7.5 MB 2.6 MB/s eta 0:00:01\n",
      "   ----------------------------- ---------- 5.6/7.5 MB 2.6 MB/s eta 0:00:01\n",
      "   ------------------------------ --------- 5.7/7.5 MB 2.6 MB/s eta 0:00:01\n",
      "   ------------------------------ --------- 5.8/7.5 MB 2.6 MB/s eta 0:00:01\n",
      "   ------------------------------- -------- 5.9/7.5 MB 2.7 MB/s eta 0:00:01\n",
      "   -------------------------------- ------- 6.1/7.5 MB 2.6 MB/s eta 0:00:01\n",
      "   --------------------------------- ------ 6.2/7.5 MB 2.7 MB/s eta 0:00:01\n",
      "   --------------------------------- ------ 6.3/7.5 MB 2.7 MB/s eta 0:00:01\n",
      "   ---------------------------------- ----- 6.5/7.5 MB 2.7 MB/s eta 0:00:01\n",
      "   ----------------------------------- ---- 6.6/7.5 MB 2.7 MB/s eta 0:00:01\n",
      "   ----------------------------------- ---- 6.7/7.5 MB 2.7 MB/s eta 0:00:01\n",
      "   ------------------------------------ --- 6.9/7.5 MB 2.7 MB/s eta 0:00:01\n",
      "   ------------------------------------- -- 7.0/7.5 MB 2.7 MB/s eta 0:00:01\n",
      "   ------------------------------------- -- 7.0/7.5 MB 2.7 MB/s eta 0:00:01\n",
      "   ------------------------------------- -- 7.0/7.5 MB 2.7 MB/s eta 0:00:01\n",
      "   ------------------------------------- -- 7.0/7.5 MB 2.7 MB/s eta 0:00:01\n",
      "   ---------------------------------------  7.5/7.5 MB 2.7 MB/s eta 0:00:01\n",
      "   ---------------------------------------  7.5/7.5 MB 2.7 MB/s eta 0:00:01\n",
      "   ---------------------------------------- 7.5/7.5 MB 2.6 MB/s eta 0:00:00\n",
      "Downloading contourpy-1.1.0-cp311-cp311-win_amd64.whl (470 kB)\n",
      "   ---------------------------------------- 0.0/470.9 kB ? eta -:--:--\n",
      "   --------- ------------------------------ 112.6/470.9 kB 2.2 MB/s eta 0:00:01\n",
      "   -------------------- ------------------- 245.8/470.9 kB 3.0 MB/s eta 0:00:01\n",
      "   -------------------------------- ------- 378.9/470.9 kB 2.6 MB/s eta 0:00:01\n",
      "   ---------------------------------------- 470.9/470.9 kB 2.7 MB/s eta 0:00:00\n",
      "Downloading fonttools-4.42.1-cp311-cp311-win_amd64.whl (2.1 MB)\n",
      "   ---------------------------------------- 0.0/2.1 MB ? eta -:--:--\n",
      "   -- ------------------------------------- 0.1/2.1 MB 3.3 MB/s eta 0:00:01\n",
      "   ---- ----------------------------------- 0.3/2.1 MB 3.2 MB/s eta 0:00:01\n",
      "   ------ --------------------------------- 0.4/2.1 MB 2.9 MB/s eta 0:00:01\n",
      "   --------- ------------------------------ 0.5/2.1 MB 2.9 MB/s eta 0:00:01\n",
      "   ------------ --------------------------- 0.6/2.1 MB 2.9 MB/s eta 0:00:01\n",
      "   -------------- ------------------------- 0.8/2.1 MB 2.9 MB/s eta 0:00:01\n",
      "   ----------------- ---------------------- 0.9/2.1 MB 2.9 MB/s eta 0:00:01\n",
      "   ------------------- -------------------- 1.0/2.1 MB 2.8 MB/s eta 0:00:01\n",
      "   --------------------- ------------------ 1.2/2.1 MB 2.8 MB/s eta 0:00:01\n",
      "   ------------------------ --------------- 1.3/2.1 MB 2.8 MB/s eta 0:00:01\n",
      "   --------------------------- ------------ 1.4/2.1 MB 2.8 MB/s eta 0:00:01\n",
      "   ---------------------------- ----------- 1.5/2.1 MB 2.8 MB/s eta 0:00:01\n",
      "   ---------------------------- ----------- 1.5/2.1 MB 2.8 MB/s eta 0:00:01\n",
      "   ---------------------------- ----------- 1.5/2.1 MB 2.8 MB/s eta 0:00:01\n",
      "   ---------------------------- ----------- 1.5/2.1 MB 2.8 MB/s eta 0:00:01\n",
      "   ---------------------------- ----------- 1.5/2.1 MB 2.8 MB/s eta 0:00:01\n",
      "   ---------------------------- ----------- 1.5/2.1 MB 2.8 MB/s eta 0:00:01\n",
      "   ---------------------------- ----------- 1.5/2.1 MB 2.8 MB/s eta 0:00:01\n",
      "   ---------------------------- ----------- 1.5/2.1 MB 2.8 MB/s eta 0:00:01\n",
      "   ---------------------------- ----------- 1.5/2.1 MB 2.8 MB/s eta 0:00:01\n",
      "   ---------------------------- ----------- 1.5/2.1 MB 2.8 MB/s eta 0:00:01\n",
      "   ---------------------------- ----------- 1.5/2.1 MB 2.8 MB/s eta 0:00:01\n",
      "   ---------------------------- ----------- 1.5/2.1 MB 2.8 MB/s eta 0:00:01\n",
      "   ---------------------------- ----------- 1.5/2.1 MB 2.8 MB/s eta 0:00:01\n",
      "   ---------------------------- ----------- 1.5/2.1 MB 2.8 MB/s eta 0:00:01\n",
      "   ---------------------------- ----------- 1.5/2.1 MB 2.8 MB/s eta 0:00:01\n",
      "   ---------------------------- ----------- 1.5/2.1 MB 2.8 MB/s eta 0:00:01\n",
      "   ---------------------------- ----------- 1.5/2.1 MB 2.8 MB/s eta 0:00:01\n",
      "   ---------------------------- ----------- 1.5/2.1 MB 2.8 MB/s eta 0:00:01\n",
      "   ---------------------------- ----------- 1.5/2.1 MB 2.8 MB/s eta 0:00:01\n",
      "   ---------------------------- ----------- 1.5/2.1 MB 2.8 MB/s eta 0:00:01\n",
      "   ----------------------------------- ---- 1.9/2.1 MB 1.2 MB/s eta 0:00:01\n",
      "   ----------------------------------- ---- 1.9/2.1 MB 1.2 MB/s eta 0:00:01\n",
      "   ------------------------------------ --- 2.0/2.1 MB 1.2 MB/s eta 0:00:01\n",
      "   -------------------------------------- - 2.0/2.1 MB 1.2 MB/s eta 0:00:01\n",
      "   ---------------------------------------  2.1/2.1 MB 1.3 MB/s eta 0:00:01\n",
      "   ---------------------------------------- 2.1/2.1 MB 1.2 MB/s eta 0:00:00\n",
      "Downloading kiwisolver-1.4.5-cp311-cp311-win_amd64.whl (56 kB)\n",
      "   ---------------------------------------- 0.0/56.1 kB ? eta -:--:--\n",
      "   ---------------------------------------- 56.1/56.1 kB 2.9 MB/s eta 0:00:00\n",
      "Downloading Pillow-10.0.0-cp311-cp311-win_amd64.whl (2.5 MB)\n",
      "   ---------------------------------------- 0.0/2.5 MB ? eta -:--:--\n",
      "   -- ------------------------------------- 0.1/2.5 MB 2.9 MB/s eta 0:00:01\n",
      "   ---- ----------------------------------- 0.3/2.5 MB 2.9 MB/s eta 0:00:01\n",
      "   ------ --------------------------------- 0.4/2.5 MB 3.1 MB/s eta 0:00:01\n",
      "   -------- ------------------------------- 0.5/2.5 MB 2.8 MB/s eta 0:00:01\n",
      "   ---------- ----------------------------- 0.6/2.5 MB 2.9 MB/s eta 0:00:01\n",
      "   ------------ --------------------------- 0.8/2.5 MB 3.0 MB/s eta 0:00:01\n",
      "   -------------- ------------------------- 0.9/2.5 MB 2.8 MB/s eta 0:00:01\n",
      "   ---------------- ----------------------- 1.0/2.5 MB 2.9 MB/s eta 0:00:01\n",
      "   ------------------ --------------------- 1.2/2.5 MB 2.8 MB/s eta 0:00:01\n",
      "   --------------------- ------------------ 1.4/2.5 MB 2.8 MB/s eta 0:00:01\n",
      "   ----------------------- ---------------- 1.5/2.5 MB 2.8 MB/s eta 0:00:01\n",
      "   ------------------------- -------------- 1.6/2.5 MB 2.8 MB/s eta 0:00:01\n",
      "   --------------------------- ------------ 1.7/2.5 MB 2.8 MB/s eta 0:00:01\n",
      "   ----------------------------- ---------- 1.9/2.5 MB 2.8 MB/s eta 0:00:01\n",
      "   ------------------------------- -------- 2.0/2.5 MB 2.8 MB/s eta 0:00:01\n",
      "   -------------------------------- ------- 2.0/2.5 MB 2.8 MB/s eta 0:00:01\n",
      "   -------------------------------- ------- 2.0/2.5 MB 2.8 MB/s eta 0:00:01\n",
      "   -------------------------------- ------- 2.0/2.5 MB 2.8 MB/s eta 0:00:01\n",
      "   ---------------------------------------  2.5/2.5 MB 2.8 MB/s eta 0:00:01\n",
      "   ---------------------------------------  2.5/2.5 MB 2.8 MB/s eta 0:00:01\n",
      "   ---------------------------------------- 2.5/2.5 MB 2.5 MB/s eta 0:00:00\n",
      "Installing collected packages: pyparsing, pillow, kiwisolver, fonttools, cycler, contourpy, matplotlib\n",
      "Successfully installed contourpy-1.1.0 cycler-0.11.0 fonttools-4.42.1 kiwisolver-1.4.5 matplotlib-3.7.2 pillow-10.0.0 pyparsing-3.0.9\n",
      "Note: you may need to restart the kernel to use updated packages.\n"
     ]
    }
   ],
   "source": [
    "%pip install matplotlib"
   ]
  },
  {
   "cell_type": "code",
   "execution_count": 13,
   "id": "48847e31-a19d-49d8-9b34-62e06c631332",
   "metadata": {},
   "outputs": [],
   "source": [
    "import numpy as np"
   ]
  },
  {
   "cell_type": "code",
   "execution_count": 12,
   "id": "4f44482c-a64e-4cde-b8ab-f1a1d4eb2555",
   "metadata": {},
   "outputs": [],
   "source": [
    "import matplotlib.pyplot as plt"
   ]
  },
  {
   "cell_type": "code",
   "execution_count": 15,
   "id": "ea93f4f4-1021-4335-9054-b97855704c6b",
   "metadata": {},
   "outputs": [],
   "source": [
    "x = np.arange(-100, 100, 1)"
   ]
  },
  {
   "cell_type": "code",
   "execution_count": 16,
   "id": "8a9b89d2-33ef-4abb-a49c-1d2a7fa6ba09",
   "metadata": {},
   "outputs": [],
   "source": [
    "y = x**2"
   ]
  },
  {
   "cell_type": "code",
   "execution_count": 22,
   "id": "aca45a79-b393-40d5-a555-687a00cc4641",
   "metadata": {},
   "outputs": [
    {
     "data": {
      "text/plain": [
       "<matplotlib.collections.PolyCollection at 0x2044bd949d0>"
      ]
     },
     "execution_count": 22,
     "metadata": {},
     "output_type": "execute_result"
    },
    {
     "data": {
      "image/png": "[encoded data removed]",
      "text/plain": [
       "<Figure size 640x480 with 1 Axes>"
      ]
     },
     "metadata": {},
     "output_type": "display_data"
    }
   ],
   "source": [
    "plt.plot(x, y, color='red', alpha=0.5)\n",
    "plt.fill_between(x, y, where=(y > 0), color='green', alpha=0.5)"
   ]
  },
  {
   "cell_type": "code",
   "execution_count": 7,
   "id": "99210a18-bf65-4a2c-b4f5-a3ce95981333",
   "metadata": {},
   "outputs": [],
   "source": [
    "plt.show()"
   ]
  }
 ],
 "metadata": {
  "kernelspec": {
   "display_name": "Python 3 (ipykernel)",
   "language": "python",
   "name": "python3"
  },
  "language_info": {
   "codemirror_mode": {
    "name": "ipython",
    "version": 3
   },
   "file_extension": ".py",
   "mimetype": "text/x-python",
   "name": "python",
   "nbconvert_exporter": "python",
   "pygments_lexer": "ipython3",
   "version": "3.11.4"
  }
 },
 "nbformat": 4,
 "nbformat_minor": 5
}
